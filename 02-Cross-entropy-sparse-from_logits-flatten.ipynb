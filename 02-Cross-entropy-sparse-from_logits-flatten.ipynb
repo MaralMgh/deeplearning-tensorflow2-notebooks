{
  "cells": [
    {
      "cell_type": "code",
      "execution_count": 1,
      "metadata": {
        "nbpresent": {
          "id": "de829a92-1fb6-44ad-a2c6-fc1001e1f6e1"
        },
        "id": "3LTKjxoqBI1V",
        "outputId": "a94d1869-72e9-45be-a746-21816874753b",
        "colab": {
          "base_uri": "https://localhost:8080/"
        }
      },
      "outputs": [
        {
          "output_type": "stream",
          "name": "stdout",
          "text": [
            "TensorFlow version: 2.19.0\n"
          ]
        }
      ],
      "source": [
        "import tensorflow as tf\n",
        "print(\"TensorFlow version:\", tf.__version__)"
      ]
    },
    {
      "cell_type": "markdown",
      "metadata": {
        "id": "Tk906c8yBI1Y"
      },
      "source": [
        "## Load a dataset"
      ]
    },
    {
      "cell_type": "code",
      "execution_count": 2,
      "metadata": {
        "id": "oWp_awZpBI1Z",
        "outputId": "be3ccb68-a5c5-4028-cc1f-ceb450609cfe",
        "colab": {
          "base_uri": "https://localhost:8080/"
        }
      },
      "outputs": [
        {
          "output_type": "stream",
          "name": "stdout",
          "text": [
            "Downloading data from https://storage.googleapis.com/tensorflow/tf-keras-datasets/mnist.npz\n",
            "\u001b[1m11490434/11490434\u001b[0m \u001b[32m━━━━━━━━━━━━━━━━━━━━\u001b[0m\u001b[37m\u001b[0m \u001b[1m2s\u001b[0m 0us/step\n"
          ]
        }
      ],
      "source": [
        "mnist = tf.keras.datasets.mnist\n",
        "\n",
        "(x_train, y_train), (x_test, y_test) = mnist.load_data()\n",
        "x_train, x_test = x_train / 255.0, x_test / 255.0"
      ]
    },
    {
      "cell_type": "code",
      "source": [
        "import numpy as np\n",
        "import matplotlib.pyplot as plt\n",
        "\n",
        "\n",
        "print(np.unique(y_train))\n",
        "plt.imshow(x_train[1], cmap=\"gray\")"
      ],
      "metadata": {
        "id": "GWFFdsEHCQRM",
        "outputId": "2238cf0d-2e8e-4c13-da19-f48763bb8981",
        "colab": {
          "base_uri": "https://localhost:8080/",
          "height": 466
        }
      },
      "execution_count": 6,
      "outputs": [
        {
          "output_type": "stream",
          "name": "stdout",
          "text": [
            "[0 1 2 3 4 5 6 7 8 9]\n"
          ]
        },
        {
          "output_type": "execute_result",
          "data": {
            "text/plain": [
              "<matplotlib.image.AxesImage at 0x7e17aa9aa6c0>"
            ]
          },
          "metadata": {},
          "execution_count": 6
        },
        {
          "output_type": "display_data",
          "data": {
            "text/plain": [
              "<Figure size 640x480 with 1 Axes>"
            ],
            "image/png": "[encoded data removed]"
          },
          "metadata": {}
        }
      ]
    },
    {
      "cell_type": "code",
      "execution_count": 7,
      "metadata": {
        "id": "Kv4p_eoJBI1a",
        "outputId": "4bb54688-090f-43f0-8a51-0764a39b7e9b",
        "colab": {
          "base_uri": "https://localhost:8080/"
        }
      },
      "outputs": [
        {
          "output_type": "stream",
          "name": "stderr",
          "text": [
            "/usr/local/lib/python3.12/dist-packages/keras/src/layers/reshaping/flatten.py:37: UserWarning: Do not pass an `input_shape`/`input_dim` argument to a layer. When using Sequential models, prefer using an `Input(shape)` object as the first layer in the model instead.\n",
            "  super().__init__(**kwargs)\n"
          ]
        }
      ],
      "source": [
        "model = tf.keras.models.Sequential([\n",
        "  tf.keras.layers.Flatten(input_shape=(28, 28)),\n",
        "  tf.keras.layers.Dense(128, activation='relu'),\n",
        "  tf.keras.layers.Dropout(0.2),\n",
        "  tf.keras.layers.Dense(10)\n",
        "])"
      ]
    },
    {
      "cell_type": "code",
      "execution_count": 8,
      "metadata": {
        "id": "1ruJT_FaBI1a"
      },
      "outputs": [],
      "source": [
        "model.compile(optimizer='adam',\n",
        "              loss=tf.keras.losses.SparseCategoricalCrossentropy(from_logits=True),\n",
        "              metrics=['accuracy'])"
      ]
    },
    {
      "cell_type": "code",
      "execution_count": 9,
      "metadata": {
        "id": "JsYnvRiLBI1a",
        "outputId": "1e6650f3-e905-4222-9b86-c2f31ae0fa32",
        "colab": {
          "base_uri": "https://localhost:8080/"
        }
      },
      "outputs": [
        {
          "output_type": "stream",
          "name": "stdout",
          "text": [
            "Epoch 1/5\n",
            "\u001b[1m1875/1875\u001b[0m \u001b[32m━━━━━━━━━━━━━━━━━━━━\u001b[0m\u001b[37m\u001b[0m \u001b[1m7s\u001b[0m 2ms/step - accuracy: 0.8661 - loss: 0.4684\n",
            "Epoch 2/5\n",
            "\u001b[1m1875/1875\u001b[0m \u001b[32m━━━━━━━━━━━━━━━━━━━━\u001b[0m\u001b[37m\u001b[0m \u001b[1m5s\u001b[0m 3ms/step - accuracy: 0.9541 - loss: 0.1504\n",
            "Epoch 3/5\n",
            "\u001b[1m1875/1875\u001b[0m \u001b[32m━━━━━━━━━━━━━━━━━━━━\u001b[0m\u001b[37m\u001b[0m \u001b[1m5s\u001b[0m 3ms/step - accuracy: 0.9671 - loss: 0.1104\n",
            "Epoch 4/5\n",
            "\u001b[1m1875/1875\u001b[0m \u001b[32m━━━━━━━━━━━━━━━━━━━━\u001b[0m\u001b[37m\u001b[0m \u001b[1m5s\u001b[0m 3ms/step - accuracy: 0.9738 - loss: 0.0853\n",
            "Epoch 5/5\n",
            "\u001b[1m1875/1875\u001b[0m \u001b[32m━━━━━━━━━━━━━━━━━━━━\u001b[0m\u001b[37m\u001b[0m \u001b[1m5s\u001b[0m 2ms/step - accuracy: 0.9771 - loss: 0.0740\n"
          ]
        },
        {
          "output_type": "execute_result",
          "data": {
            "text/plain": [
              "<keras.src.callbacks.history.History at 0x7e17aafb3560>"
            ]
          },
          "metadata": {},
          "execution_count": 9
        }
      ],
      "source": [
        "model.fit(x_train, y_train, epochs=5)"
      ]
    },
    {
      "cell_type": "code",
      "execution_count": 10,
      "metadata": {
        "id": "H2hIrAc_BI1b",
        "outputId": "d79a339d-5eb2-42cc-c774-91bcd7b313db",
        "colab": {
          "base_uri": "https://localhost:8080/"
        }
      },
      "outputs": [
        {
          "output_type": "stream",
          "name": "stdout",
          "text": [
            "313/313 - 2s - 5ms/step - accuracy: 0.9774 - loss: 0.0737\n"
          ]
        },
        {
          "output_type": "execute_result",
          "data": {
            "text/plain": [
              "[0.07373563200235367, 0.977400004863739]"
            ]
          },
          "metadata": {},
          "execution_count": 10
        }
      ],
      "source": [
        "model.evaluate(x_test,  y_test, verbose=2)"
      ]
    },
    {
      "cell_type": "code",
      "execution_count": 11,
      "metadata": {
        "id": "uP78rXv4BI1b",
        "outputId": "6a0e12a9-7d8b-4b0a-8683-96e338e3c1ca",
        "colab": {
          "base_uri": "https://localhost:8080/"
        }
      },
      "outputs": [
        {
          "output_type": "execute_result",
          "data": {
            "text/plain": [
              "np.uint8(9)"
            ]
          },
          "metadata": {},
          "execution_count": 11
        }
      ],
      "source": [
        "y_test[12]"
      ]
    },
    {
      "cell_type": "code",
      "execution_count": 13,
      "metadata": {
        "id": "n7Qq-gxJBI1c",
        "outputId": "aa355a45-f295-43fd-e101-02903df95b77",
        "colab": {
          "base_uri": "https://localhost:8080/"
        }
      },
      "outputs": [
        {
          "output_type": "execute_result",
          "data": {
            "text/plain": [
              "(28, 28)"
            ]
          },
          "metadata": {},
          "execution_count": 13
        }
      ],
      "source": [
        "x_test[12].shape"
      ]
    },
    {
      "cell_type": "code",
      "execution_count": 14,
      "metadata": {
        "id": "CS1UOEVEBI1c",
        "outputId": "7e4b22bc-9cfc-4ecd-a1bc-987ff3ccebe6",
        "colab": {
          "base_uri": "https://localhost:8080/"
        }
      },
      "outputs": [
        {
          "output_type": "execute_result",
          "data": {
            "text/plain": [
              "(1, 28, 28)"
            ]
          },
          "metadata": {},
          "execution_count": 14
        }
      ],
      "source": [
        "test_sample = x_test[12].reshape(1,28,28)\n",
        "test_sample.shape"
      ]
    },
    {
      "cell_type": "code",
      "execution_count": 15,
      "metadata": {
        "id": "XJKaX6oCBI1c",
        "outputId": "f1aedffb-f137-49b6-df2d-fc0f5eea8e2d",
        "colab": {
          "base_uri": "https://localhost:8080/"
        }
      },
      "outputs": [
        {
          "output_type": "stream",
          "name": "stdout",
          "text": [
            "\u001b[1m1/1\u001b[0m \u001b[32m━━━━━━━━━━━━━━━━━━━━\u001b[0m\u001b[37m\u001b[0m \u001b[1m0s\u001b[0m 349ms/step\n"
          ]
        },
        {
          "output_type": "execute_result",
          "data": {
            "text/plain": [
              "array([[-10.703695  , -10.065521  ,  -5.771019  ,  -0.55641335,\n",
              "          3.5749466 ,  -4.2315884 , -12.684587  ,  -0.77429014,\n",
              "         -3.7943788 ,   9.967425  ]], dtype=float32)"
            ]
          },
          "metadata": {},
          "execution_count": 15
        }
      ],
      "source": [
        "model.predict(test_sample)"
      ]
    },
    {
      "cell_type": "code",
      "execution_count": 16,
      "metadata": {
        "id": "bLF5eugxBI1c"
      },
      "outputs": [],
      "source": [
        "# Since we do not use softmax in our model, so the values are not probability. To understand the label then we need to use softmax for prediction now\n",
        "probability_model = tf.keras.Sequential([\n",
        "  model,\n",
        "  tf.keras.layers.Softmax()\n",
        "])"
      ]
    },
    {
      "cell_type": "code",
      "execution_count": 17,
      "metadata": {
        "id": "3rzopvjEBI1c",
        "outputId": "03fd43bc-6427-4c2f-f956-f11636e63007",
        "colab": {
          "base_uri": "https://localhost:8080/"
        }
      },
      "outputs": [
        {
          "output_type": "stream",
          "name": "stdout",
          "text": [
            "\u001b[1m1/1\u001b[0m \u001b[32m━━━━━━━━━━━━━━━━━━━━\u001b[0m\u001b[37m\u001b[0m \u001b[1m0s\u001b[0m 347ms/step\n"
          ]
        },
        {
          "output_type": "execute_result",
          "data": {
            "text/plain": [
              "array([[1.0517159e-09, 1.9909170e-09, 1.4592584e-07, 2.6841482e-05,\n",
              "        1.6712191e-03, 6.8029681e-07, 1.4508013e-10, 2.1586588e-05,\n",
              "        1.0533579e-06, 9.9827850e-01]], dtype=float32)"
            ]
          },
          "metadata": {},
          "execution_count": 17
        }
      ],
      "source": [
        "probability_model.predict(test_sample)"
      ]
    },
    {
      "cell_type": "code",
      "source": [],
      "metadata": {
        "id": "NirQNxP8DjBo"
      },
      "execution_count": null,
      "outputs": []
    }
  ],
  "metadata": {
    "anaconda-cloud": {},
    "kernelspec": {
      "display_name": "tf2.5",
      "language": "python",
      "name": "tensorflow_25"
    },
    "language_info": {
      "codemirror_mode": {
        "name": "ipython",
        "version": 3
      },
      "file_extension": ".py",
      "mimetype": "text/x-python",
      "name": "python",
      "nbconvert_exporter": "python",
      "pygments_lexer": "ipython3",
      "version": "3.8.10"
    },
    "nbpresent": {
      "slides": {
        "300ee14f-a043-486e-b274-7ff253907cd7": {
          "id": "300ee14f-a043-486e-b274-7ff253907cd7",
          "prev": "cb74e0bc-4513-4d13-b7f1-14c3078a7927",
          "regions": {
            "26dc3f39-a230-447c-af4c-f5e5b2fb7835": {
              "attrs": {
                "height": 0.8,
                "width": 0.8,
                "x": 0.1,
                "y": 0.1
              },
              "content": {
                "cell": "c58440a5-3f8f-4f37-9c79-6bf766209406",
                "part": "whole"
              },
              "id": "26dc3f39-a230-447c-af4c-f5e5b2fb7835"
            }
          }
        },
        "878aa53a-1444-4100-8f50-7a408191c579": {
          "id": "878aa53a-1444-4100-8f50-7a408191c579",
          "prev": null,
          "regions": {
            "a6c6843a-5ea6-4fbc-b890-3b4b8ae475b3": {
              "attrs": {
                "height": 0.8,
                "width": 0.8,
                "x": 0.1,
                "y": 0.1
              },
              "content": {
                "cell": "588ee1fa-64b5-453b-ade7-8e6b2515821c",
                "part": "whole"
              },
              "id": "a6c6843a-5ea6-4fbc-b890-3b4b8ae475b3"
            }
          }
        },
        "96ffe88e-7b50-43de-afdd-942e564f4e3e": {
          "id": "96ffe88e-7b50-43de-afdd-942e564f4e3e",
          "prev": "878aa53a-1444-4100-8f50-7a408191c579",
          "regions": {
            "b7e52e12-489a-468d-b10c-af2024fd2856": {
              "attrs": {
                "height": 0.8,
                "width": 0.8,
                "x": 0.1,
                "y": 0.1
              },
              "content": {
                "cell": "de829a92-1fb6-44ad-a2c6-fc1001e1f6e1",
                "part": "whole"
              },
              "id": "b7e52e12-489a-468d-b10c-af2024fd2856"
            }
          }
        },
        "cb74e0bc-4513-4d13-b7f1-14c3078a7927": {
          "id": "cb74e0bc-4513-4d13-b7f1-14c3078a7927",
          "prev": "96ffe88e-7b50-43de-afdd-942e564f4e3e",
          "regions": {
            "444878ee-68f3-4abb-acff-a7079b21e86d": {
              "attrs": {
                "height": 0.8,
                "width": 0.8,
                "x": 0.1,
                "y": 0.1
              },
              "content": {
                "cell": "25f3f538-1ee8-4d98-a6bb-14cbeb7a702d",
                "part": "whole"
              },
              "id": "444878ee-68f3-4abb-acff-a7079b21e86d"
            }
          }
        }
      },
      "themes": {}
    },
    "colab": {
      "provenance": [],
      "gpuType": "T4"
    },
    "accelerator": "GPU"
  },
  "nbformat": 4,
  "nbformat_minor": 0
}